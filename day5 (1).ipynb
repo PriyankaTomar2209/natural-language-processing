{
  "nbformat": 4,
  "nbformat_minor": 0,
  "metadata": {
    "colab": {
      "name": "day5.ipynb",
      "provenance": [],
      "collapsed_sections": []
    },
    "kernelspec": {
      "name": "python3",
      "display_name": "Python 3"
    }
  },
  "cells": [
    {
      "cell_type": "markdown",
      "metadata": {
        "id": "KXgfPki-lzec",
        "colab_type": "text"
      },
      "source": [
        "**QUESTION 1**\n",
        "\n",
        "Program to print first 20 non-even prime numbers"
      ]
    },
    {
      "cell_type": "code",
      "metadata": {
        "id": "kmFbBYwGxXT6",
        "colab_type": "code",
        "colab": {
          "base_uri": "https://localhost:8080/",
          "height": 372
        },
        "outputId": "992c0b8e-deff-469b-ae3e-49fecae21f93"
      },
      "source": [
        "count = 0\n",
        "odd_prime = -1\n",
        "while count < 20:\n",
        "  is_prime = True\n",
        "  odd_prime += 2\n",
        "  for i in range(3, odd_prime, 2):\n",
        "    if odd_prime%i == 0:\n",
        "      is_prime = False\n",
        "      break\n",
        "  if odd_prime != 1 and is_prime:\n",
        "    print(odd_prime)\n",
        "    count = count+1"
      ],
      "execution_count": 11,
      "outputs": [
        {
          "output_type": "stream",
          "text": [
            "3\n",
            "5\n",
            "7\n",
            "11\n",
            "13\n",
            "17\n",
            "19\n",
            "23\n",
            "29\n",
            "31\n",
            "37\n",
            "41\n",
            "43\n",
            "47\n",
            "53\n",
            "59\n",
            "61\n",
            "67\n",
            "71\n",
            "73\n"
          ],
          "name": "stdout"
        }
      ]
    },
    {
      "cell_type": "markdown",
      "metadata": {
        "id": "TqSoQzOszGRt",
        "colab_type": "text"
      },
      "source": [
        "\n",
        "\n",
        "---\n",
        "\n",
        "\n",
        "**QUESTION 2**\n",
        "\n",
        " Program to implement 15 functions of string"
      ]
    },
    {
      "cell_type": "code",
      "metadata": {
        "id": "7Ctu3-43zVqm",
        "colab_type": "code",
        "colab": {
          "base_uri": "https://localhost:8080/",
          "height": 176
        },
        "outputId": "826a1cd8-deed-40b6-e708-78198735750e"
      },
      "source": [
        "s1 = \"PriyanKa\"\n",
        "s2 = \"tomar\"\n",
        "print(s1+s2)\n",
        "print(s1.swapcase())\n",
        "print(s1.upper())\n",
        "print(s1.lower())\n",
        "print(s1.isalpha())\n",
        "print(s1.replace('P','R'))\n",
        "print(len(s1))\n",
        "print(s1.islower())\n",
        "print(s1.isdigit())\n",
        "#print(center(s1))\n"
      ],
      "execution_count": 37,
      "outputs": [
        {
          "output_type": "stream",
          "text": [
            "PriyanKatomar\n",
            "pRIYANkA\n",
            "PRIYANKA\n",
            "priyanka\n",
            "True\n",
            "RriyanKa\n",
            "8\n",
            "False\n",
            "False\n"
          ],
          "name": "stdout"
        }
      ]
    },
    {
      "cell_type": "markdown",
      "metadata": {
        "id": "X9mVk88R5XZD",
        "colab_type": "text"
      },
      "source": [
        "\n",
        "\n",
        "---\n",
        "\n",
        "\n",
        "**QUESTION 3**\n",
        "\n",
        " given string is a Palindrome or Anagram or None of them"
      ]
    },
    {
      "cell_type": "code",
      "metadata": {
        "id": "O1qRq3D45lM3",
        "colab_type": "code",
        "colab": {
          "base_uri": "https://localhost:8080/",
          "height": 87
        },
        "outputId": "becabbe9-7417-4bcf-f290-4cf83d13b10b"
      },
      "source": [
        "def is_palindrome(first_string, second_string):\n",
        "    first_string = first_string.lower()\n",
        "    second_string = second_string.lower()\n",
        "    return first_string == second_string[::-1]\n",
        "\n",
        "def is_anagram(first_string, second_string):\n",
        "    first_string = first_string.lower()\n",
        "    second_string = second_string.lower()\n",
        "    if len(first_string) != len(second_string):\n",
        "        return False\n",
        "    first_string = sorted(first_string)\n",
        "    second_string = sorted(second_string)\n",
        "\n",
        "    return first_string == second_string\n",
        "\n",
        "first_string = input('Enter First String: ')\n",
        "second_string = input('Enter Second String: ')\n",
        "\n",
        "palindrome = is_palindrome(first_string,second_string)\n",
        "anagram = is_anagram(first_string,second_string)\n",
        " \n",
        "if palindrome:\n",
        "  print('Strings are Palindrome')\n",
        "if anagram:\n",
        "  print('Strings are Anagram ')\n",
        "if (not(palindrome or anagram)):\n",
        "  print('Strings are not palindrome or anagram')"
      ],
      "execution_count": 20,
      "outputs": [
        {
          "output_type": "stream",
          "text": [
            "Enter First String: kakao\n",
            "Enter Second String: oakak\n",
            "Strings are Palindrome\n",
            "Strings are Anagram \n"
          ],
          "name": "stdout"
        }
      ]
    },
    {
      "cell_type": "markdown",
      "metadata": {
        "id": "AragSg0bcSSN",
        "colab_type": "text"
      },
      "source": [
        "\n",
        "\n",
        "---\n",
        "\n",
        "\n",
        "**QUESTION 4**\n",
        "\n",
        "\n",
        "\n",
        "User defined function that removes all the additional characters from the string and converts it to lower case"
      ]
    },
    {
      "cell_type": "code",
      "metadata": {
        "id": "EuLoq2s0cSoG",
        "colab_type": "code",
        "colab": {
          "base_uri": "https://localhost:8080/",
          "height": 34
        },
        "outputId": "69eb2d31-d232-41de-f5ac-f52e86d72ff2"
      },
      "source": [
        "def replace_char(y):\n",
        "  invalid = ['!','@','#','$','%','^','&','*','(',')','?','<','>','/','{','}','=','+','-','_',':',';',',',' ']\n",
        "  for i in invalid:\n",
        "    y = y.replace(i, '')\n",
        "    y = y.lower()\n",
        "  print(\"After removing all character and Converting string to upper case string is:\",y)\n",
        "s3 = \"Priyanka tomAr, Course:AI-ML, By- LetsUpgrade\"\n",
        "replace_char(s3)"
      ],
      "execution_count": 3,
      "outputs": [
        {
          "output_type": "stream",
          "text": [
            "After removing all character and Converting string to upper case string is: priyankatomarcourseaimlbyletsupgrade\n"
          ],
          "name": "stdout"
        }
      ]
    }
  ]
}